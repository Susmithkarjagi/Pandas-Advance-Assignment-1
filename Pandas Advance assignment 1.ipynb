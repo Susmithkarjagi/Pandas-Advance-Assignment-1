{
 "cells": [
  {
   "cell_type": "markdown",
   "id": "94c0d32c-efc4-442a-98a1-022954332c2f",
   "metadata": {},
   "source": [
    "## Pandas Advance assignment 1"
   ]
  },
  {
   "cell_type": "markdown",
   "id": "3b43d897-34da-4c52-9920-1548ff260c4f",
   "metadata": {},
   "source": [
    "Q1. List any five functions of the pandas library with execution."
   ]
  },
  {
   "cell_type": "markdown",
   "id": "a60055ba-7ee3-45be-b282-091c4fa529cf",
   "metadata": {},
   "source": [
    "1. read_csv(): This function is used to read a CSV (Comma Separated Values) file and convert it into a pandas DataFrame.\n",
    "Example: Suppose we have a CSV file named data.csv in the same directory as our Python code. We can read it using the following code:"
   ]
  },
  {
   "cell_type": "code",
   "execution_count": null,
   "id": "08c54488-0573-434e-bf14-bc85ed3e4f98",
   "metadata": {},
   "outputs": [],
   "source": [
    "import pandas as pd\n",
    "df = pd.read_csv('data.csv')\n"
   ]
  },
  {
   "cell_type": "markdown",
   "id": "f7d99b7c-689c-4bed-b650-62601ceb8307",
   "metadata": {},
   "source": [
    "2.head(): This function is used to view the first n rows of a DataFrame. By default, it displays the first 5 rows.\n",
    "Example: We can use the head() function on our df DataFrame to view the first 5 rows:"
   ]
  },
  {
   "cell_type": "code",
   "execution_count": null,
   "id": "e2b8b9f4-10d9-4423-be57-59918b1a235d",
   "metadata": {},
   "outputs": [],
   "source": [
    "print(df.head())\n"
   ]
  },
  {
   "cell_type": "markdown",
   "id": "a766ff60-2349-4ddf-b097-95b360522573",
   "metadata": {},
   "source": [
    "3.describe(): This function is used to generate various summary statistics of a DataFrame, such as count, mean, standard deviation, minimum, maximum, and quartiles.\n",
    "Example: We can use the describe() function on our df DataFrame to generate summary statistics:"
   ]
  },
  {
   "cell_type": "code",
   "execution_count": null,
   "id": "1dcf72b5-4dd1-42a7-b257-da07f92a3f95",
   "metadata": {},
   "outputs": [],
   "source": [
    "print(df.describe())\n"
   ]
  },
  {
   "cell_type": "markdown",
   "id": "0d592ce1-0c32-4470-8cec-7ad6adf67535",
   "metadata": {},
   "source": [
    "4.groupby(): This function is used to group the rows of a DataFrame based on one or more 4. columns, and then apply a function to each group.\n",
    "Example: Suppose we have a DataFrame named sales_df with columns Region, Product, and Sales. We can group the rows by Region and calculate the total sales for each region using the following code:"
   ]
  },
  {
   "cell_type": "code",
   "execution_count": null,
   "id": "0d3fb882-95e1-4f56-954b-6f9b4ea4c881",
   "metadata": {},
   "outputs": [],
   "source": [
    "grouped_df = sales_df.groupby('Region').sum()\n"
   ]
  },
  {
   "cell_type": "markdown",
   "id": "370b6373-a91a-4a8c-8677-69fe6f8661f5",
   "metadata": {},
   "source": [
    "5.plot(): This function is used to create various types of plots, such as line plots, scatter plots, bar plots, and histograms. It is based on the matplotlib library.\n",
    "Example: We can use the plot() function on our sales_df DataFrame to create a bar plot of the total sales for each region:"
   ]
  },
  {
   "cell_type": "code",
   "execution_count": null,
   "id": "a8baf15f-4701-4569-868f-b2dda27ff276",
   "metadata": {},
   "outputs": [],
   "source": [
    "grouped_df.plot(kind='bar', y='Sales')\n"
   ]
  },
  {
   "cell_type": "code",
   "execution_count": null,
   "id": "3902aa27-314e-4472-957c-7ab21063a609",
   "metadata": {},
   "outputs": [],
   "source": []
  },
  {
   "cell_type": "markdown",
   "id": "f48ef562-f66f-4d0b-9ce5-74721983f64d",
   "metadata": {},
   "source": [
    "Q2. Given a Pandas DataFrame df with columns 'A', 'B', and 'C', write a Python function to re-index the\n",
    "DataFrame with a new index that starts from 1 and increments by 2 for each row."
   ]
  },
  {
   "cell_type": "code",
   "execution_count": 2,
   "id": "042c1321-6de2-4fbe-af0b-82db83bf6b47",
   "metadata": {},
   "outputs": [],
   "source": [
    "import pandas as pd\n",
    "\n",
    "def reindex_df(df):\n",
    "    new_index = pd.RangeIndex(start=1, stop=2*len(df), step=2)\n",
    "    df = df.set_index(new_index)\n",
    "    return df\n"
   ]
  },
  {
   "cell_type": "markdown",
   "id": "24cf1f71-8bb8-4202-8269-274ce7417aa0",
   "metadata": {},
   "source": [
    "Explanation:\n",
    "\n",
    "The pd.RangeIndex() function creates a new index that starts from 1 and increments by 2 for each row. The start parameter specifies the start value of the index, the stop parameter specifies the end value (exclusive), and the step parameter specifies the step size.\n",
    "The set_index() function sets the new index for the DataFrame.\n",
    "The function returns the re-indexed DataFrame.\n",
    "You can use this function to re-index a DataFrame as follows:"
   ]
  },
  {
   "cell_type": "code",
   "execution_count": 3,
   "id": "808379e1-b15b-4da8-af63-08dc1f1da3c1",
   "metadata": {},
   "outputs": [
    {
     "name": "stdout",
     "output_type": "stream",
     "text": [
      "    A   B   C\n",
      "1  10  40  70\n",
      "3  20  50  80\n",
      "5  30  60  90\n"
     ]
    }
   ],
   "source": [
    "# Example DataFrame\n",
    "df = pd.DataFrame({'A': [10, 20, 30], 'B': [40, 50, 60], 'C': [70, 80, 90]})\n",
    "\n",
    "# Re-index the DataFrame\n",
    "df = reindex_df(df)\n",
    "\n",
    "# Print the re-indexed DataFrame\n",
    "print(df)\n"
   ]
  },
  {
   "cell_type": "code",
   "execution_count": null,
   "id": "a59c0f05-dc85-47de-9ad1-f87c5c3d741a",
   "metadata": {},
   "outputs": [],
   "source": []
  },
  {
   "cell_type": "markdown",
   "id": "a4406221-dcdd-40ae-afa3-ba6d30e699e0",
   "metadata": {},
   "source": [
    "Q3. You have a Pandas DataFrame df with a column named 'Values'. Write a Python function that\n",
    "iterates over the DataFrame and calculates the sum of the first three values in the 'Values' column. The\n",
    "function should print the sum to the console.\n",
    "For example, if the 'Values' column of df contains the values [10, 20, 30, 40, 50], your function should\n",
    "calculate and print the sum of the first three values, which is 60."
   ]
  },
  {
   "cell_type": "code",
   "execution_count": 4,
   "id": "bf7e03a8-91f6-4387-83d2-4a573eae2a2a",
   "metadata": {},
   "outputs": [],
   "source": [
    "import pandas as pd\n",
    "\n",
    "def sum_first_three(df):\n",
    "    values_sum = sum(df['Values'].iloc[:3])\n",
    "    print(\"Sum of the first three values:\", values_sum)\n"
   ]
  },
  {
   "cell_type": "markdown",
   "id": "99bd83b6-d822-4886-8fd3-3887451d518b",
   "metadata": {},
   "source": [
    "Explanation:\n",
    "\n",
    "The sum() function calculates the sum of the first three values in the 'Values' column using the iloc indexer to slice the first three rows.\n",
    "The function prints the sum to the console.\n",
    "You can use this function to calculate the sum of the first three values in a DataFrame as follows:"
   ]
  },
  {
   "cell_type": "code",
   "execution_count": 5,
   "id": "7449b289-efbc-4f79-982f-a1ca864a1346",
   "metadata": {},
   "outputs": [
    {
     "name": "stdout",
     "output_type": "stream",
     "text": [
      "Sum of the first three values: 60\n"
     ]
    }
   ],
   "source": [
    "# Example DataFrame\n",
    "df = pd.DataFrame({'Values': [10, 20, 30, 40, 50]})\n",
    "\n",
    "# Call the function\n",
    "sum_first_three(df)\n"
   ]
  },
  {
   "cell_type": "code",
   "execution_count": null,
   "id": "a0327f3e-58c6-4336-9dd7-a0566f0f5c8d",
   "metadata": {},
   "outputs": [],
   "source": []
  },
  {
   "cell_type": "markdown",
   "id": "5a171adb-3de5-45ce-be44-0aa78c954333",
   "metadata": {},
   "source": [
    "Q4. Given a Pandas DataFrame df with a column 'Text', write a Python function to create a new column\n",
    "'Word_Count' that contains the number of words in each row of the 'Text' column."
   ]
  },
  {
   "cell_type": "code",
   "execution_count": 6,
   "id": "a48e8a1b-b04f-43d9-96f7-2e69384e860b",
   "metadata": {},
   "outputs": [],
   "source": [
    "import pandas as pd\n",
    "\n",
    "def add_word_count(df):\n",
    "    df['Word_Count'] = df['Text'].apply(lambda x: len(str(x).split()))\n",
    "    return df\n"
   ]
  },
  {
   "cell_type": "markdown",
   "id": "e680fe97-b7da-49d6-9e2b-eae1f56b3fca",
   "metadata": {},
   "source": [
    "Explanation:\n",
    "\n",
    "The apply() function applies a lambda function to each row of the 'Text' column.\n",
    "The lambda function uses the split() method to split the text in each row into words and then calculates the number of words using the len() function.\n",
    "The new column 'Word_Count' is added to the DataFrame using the df['Word_Count'] = notation.\n",
    "The function returns the modified DataFrame.\n",
    "You can use this function to add a new column 'Word_Count' to a DataFrame 'df' as follows:"
   ]
  },
  {
   "cell_type": "code",
   "execution_count": 7,
   "id": "8e4525c9-73d7-42bf-ac07-67e27d3cff4c",
   "metadata": {},
   "outputs": [
    {
     "name": "stdout",
     "output_type": "stream",
     "text": [
      "                        Text  Word_Count\n",
      "0        This is a sentence.           4\n",
      "1  This is another sentence.           4\n",
      "2          A third sentence.           3\n"
     ]
    }
   ],
   "source": [
    "# Example DataFrame\n",
    "df = pd.DataFrame({'Text': ['This is a sentence.', 'This is another sentence.', 'A third sentence.']})\n",
    "\n",
    "# Call the function\n",
    "df = add_word_count(df)\n",
    "\n",
    "# Print the modified DataFrame\n",
    "print(df)\n"
   ]
  },
  {
   "cell_type": "code",
   "execution_count": null,
   "id": "34562cf3-3e5d-412d-a9db-4782bf9c723c",
   "metadata": {},
   "outputs": [],
   "source": []
  },
  {
   "cell_type": "markdown",
   "id": "30819a69-3bed-4819-b1d7-73fddaf9e62d",
   "metadata": {},
   "source": [
    "Q5. How are DataFrame.size() and DataFrame.shape() different?"
   ]
  },
  {
   "cell_type": "markdown",
   "id": "f66cc217-4722-45b3-bdca-1a62e7b0467f",
   "metadata": {},
   "source": [
    "DataFrame.size and DataFrame.shape are both functions used in Pandas to retrieve information about the shape of a DataFrame, but they return different values.\n",
    "\n",
    "DataFrame.size returns the total number of elements in the DataFrame, which is equal to the number of rows multiplied by the number of columns. This function returns a scalar value.\n",
    "\n",
    "DataFrame.shape returns a tuple of integers representing the dimensions of the DataFrame, where the first element is the number of rows and the second element is the number of columns. This function returns a tuple."
   ]
  },
  {
   "cell_type": "code",
   "execution_count": 8,
   "id": "a2d51857-481a-4023-a1b3-b19b8719e341",
   "metadata": {},
   "outputs": [
    {
     "name": "stdout",
     "output_type": "stream",
     "text": [
      "DataFrame size: 9\n",
      "DataFrame shape: (3, 3)\n"
     ]
    }
   ],
   "source": [
    "import pandas as pd\n",
    "\n",
    "# Create a DataFrame\n",
    "df = pd.DataFrame({'A': [1, 2, 3], 'B': [4, 5, 6], 'C': [7, 8, 9]})\n",
    "\n",
    "# Get the size of the DataFrame\n",
    "df_size = df.size\n",
    "\n",
    "# Get the shape of the DataFrame\n",
    "df_shape = df.shape\n",
    "\n",
    "# Print the results\n",
    "print(\"DataFrame size:\", df_size)\n",
    "print(\"DataFrame shape:\", df_shape)\n"
   ]
  },
  {
   "cell_type": "code",
   "execution_count": null,
   "id": "d98ca5ba-bfea-43f3-99b9-e08a95172f1d",
   "metadata": {},
   "outputs": [],
   "source": []
  },
  {
   "cell_type": "markdown",
   "id": "a0deb2db-63c8-4456-a90b-74350099646f",
   "metadata": {},
   "source": [
    "Q6. Which function of pandas do we use to read an excel file?"
   ]
  },
  {
   "cell_type": "markdown",
   "id": "5208c6f1-7698-4b4b-98d9-1b8711ac745d",
   "metadata": {},
   "source": [
    "To read an Excel file using Pandas, we can use the read_excel() function."
   ]
  },
  {
   "cell_type": "code",
   "execution_count": null,
   "id": "6c6274c0-8f3e-4bc9-b157-f173c0a8d7a0",
   "metadata": {},
   "outputs": [],
   "source": [
    "import pandas as pd\n",
    "\n",
    "# read the excel file into a pandas dataframe\n",
    "df = pd.read_excel('example.xlsx', sheet_name='Sheet1')\n",
    "\n",
    "# display the contents of the dataframe\n",
    "print(df)\n"
   ]
  },
  {
   "cell_type": "markdown",
   "id": "6003832d-6f0c-41bf-b184-d005bd27ba70",
   "metadata": {},
   "source": [
    "Explanation:\n",
    "\n",
    "The pd.read_excel() function is used to read an Excel file and convert it to a Pandas DataFrame.\n",
    "In the example, the function reads the Excel file example.xlsx and extracts data from the sheet named Sheet1.\n",
    "The resulting DataFrame is stored in the variable df.\n",
    "Finally, the contents of the DataFrame are printed to the console using the print() function.\n",
    "You can modify the arguments of pd.read_excel() according to the specific Excel file you want to read. For example, you can specify the sheet name, column names, or index column using various optional parameters of the read_excel() function."
   ]
  },
  {
   "cell_type": "code",
   "execution_count": null,
   "id": "68f5557b-c802-496a-90ce-815289ae8b39",
   "metadata": {},
   "outputs": [],
   "source": []
  },
  {
   "cell_type": "markdown",
   "id": "307ecb09-1152-4a28-b6e4-c443e64b07db",
   "metadata": {},
   "source": [
    "Q7. You have a Pandas DataFrame df that contains a column named 'Email' that contains email\n",
    "addresses in the format 'username@domain.com'. Write a Python function that creates a new column\n",
    "'Username' in df that contains only the username part of each email address.\n",
    "The username is the part of the email address that appears before the '@' symbol. For example, if the\n",
    "email address is 'john.doe@example.com', the 'Username' column should contain 'john.doe'. Your\n",
    "function should extract the username from each email address and store it in the new 'Username'\n",
    "column."
   ]
  },
  {
   "cell_type": "markdown",
   "id": "2d4b3c64-7382-4c91-a4f9-19e528d45a80",
   "metadata": {},
   "source": [
    "Here is a Python function that extracts the username from the 'Email' column of a Pandas DataFrame and stores it in a new 'Username' column:"
   ]
  },
  {
   "cell_type": "code",
   "execution_count": 10,
   "id": "043bec9b-68ba-40f8-845e-6813ef59669a",
   "metadata": {},
   "outputs": [],
   "source": [
    "import pandas as pd\n",
    "\n",
    "def extract_username(df):\n",
    "    # Extract the username from the 'Email' column\n",
    "    df['Username'] = df['Email'].apply(lambda x: x.split('@')[0])\n",
    "    return df\n"
   ]
  },
  {
   "cell_type": "markdown",
   "id": "dbbe3d1b-1076-410d-b141-6dc4b05eb7f7",
   "metadata": {},
   "source": [
    "Explanation:\n",
    "\n",
    "The function takes a Pandas DataFrame df as input.\n",
    "The function extracts the username from the 'Email' column by splitting each email address on the '@' symbol using the split() function and selecting the first element of the resulting list using a lambda function and the apply() function.\n",
    "The extracted usernames are then stored in a new 'Username' column using the assignment operator =.\n",
    "Finally, the function returns the modified DataFrame.\n",
    "You can call this function with your DataFrame as input to create the new 'Username' column. For example:"
   ]
  },
  {
   "cell_type": "code",
   "execution_count": 11,
   "id": "f9a855ec-d7fd-4207-88b7-9d91f3cbe026",
   "metadata": {},
   "outputs": [
    {
     "name": "stdout",
     "output_type": "stream",
     "text": [
      "                 Email Username\n",
      "0  susmith@example.com  susmith\n",
      "1    luffy@example.com    luffy\n"
     ]
    }
   ],
   "source": [
    "# Create a sample DataFrame\n",
    "df = pd.DataFrame({'Email': ['susmith@example.com', 'luffy@example.com']})\n",
    "\n",
    "# Call the function to extract the usernames\n",
    "df = extract_username(df)\n",
    "\n",
    "# Print the resulting DataFrame\n",
    "print(df)\n"
   ]
  },
  {
   "cell_type": "code",
   "execution_count": null,
   "id": "e868d994-f6de-4f38-b342-2670f41fc832",
   "metadata": {},
   "outputs": [],
   "source": []
  },
  {
   "cell_type": "markdown",
   "id": "2e6b4ac8-7502-4033-9aca-8bec1d354c7e",
   "metadata": {},
   "source": [
    "Q8. You have a Pandas DataFrame df with columns 'A', 'B', and 'C'. Write a Python function that selects\n",
    "all rows where the value in column 'A' is greater than 5 and the value in column 'B' is less than 10. The\n",
    "function should return a new DataFrame that contains only the selected rows.\n",
    "For example, if df contains the following values:\n",
    "A B C\n",
    "\n",
    "0 3 5 1\n",
    "\n",
    "1 8 2 7\n",
    "\n",
    "2 6 9 4\n",
    "\n",
    "3 2 3 5\n",
    "\n",
    "4 9 1 2"
   ]
  },
  {
   "cell_type": "markdown",
   "id": "3a18b914-af7b-49f7-85d6-bd4f66c4b1a1",
   "metadata": {},
   "source": [
    "Here is a Python function that selects all rows from a Pandas DataFrame df where the value in column 'A' is greater than 5 and the value in column 'B' is less than 10:"
   ]
  },
  {
   "cell_type": "code",
   "execution_count": 12,
   "id": "0d0164e7-bf28-47a2-ad3a-ccb3e1c83ed2",
   "metadata": {},
   "outputs": [],
   "source": [
    "import pandas as pd\n",
    "\n",
    "def select_rows(df):\n",
    "    # Select rows where 'A' > 5 and 'B' < 10\n",
    "    selected_rows = df[(df['A'] > 5) & (df['B'] < 10)]\n",
    "    return selected_rows\n"
   ]
  },
  {
   "cell_type": "markdown",
   "id": "ece22772-d4b0-40bc-9ab2-26def65593fc",
   "metadata": {},
   "source": [
    "Explanation:\n",
    "\n",
    "The function takes a Pandas DataFrame df as input.\n",
    "The function selects rows where the value in column 'A' is greater than 5 and the value in column 'B' is less than 10 using the & operator to combine two conditions.\n",
    "The selected rows are stored in a new DataFrame called selected_rows.\n",
    "Finally, the function returns the new DataFrame.\n",
    "You can call this function with your DataFrame as input to select the desired rows. For example:"
   ]
  },
  {
   "cell_type": "code",
   "execution_count": 13,
   "id": "6cc981ad-08c5-43de-b242-9062d815bc47",
   "metadata": {},
   "outputs": [
    {
     "name": "stdout",
     "output_type": "stream",
     "text": [
      "   A  B  C\n",
      "1  8  2  7\n",
      "2  6  9  4\n",
      "4  9  1  2\n"
     ]
    }
   ],
   "source": [
    "# Create a sample DataFrame\n",
    "df = pd.DataFrame({'A': [3, 8, 6, 2, 9],\n",
    "                   'B': [5, 2, 9, 3, 1],\n",
    "                   'C': [1, 7, 4, 5, 2]})\n",
    "\n",
    "# Call the function to select rows where 'A' > 5 and 'B' < 10\n",
    "selected_rows = select_rows(df)\n",
    "\n",
    "# Print the resulting DataFrame\n",
    "print(selected_rows)\n"
   ]
  },
  {
   "cell_type": "code",
   "execution_count": null,
   "id": "6a12c210-d74e-49e0-af0c-0d76a609fa8e",
   "metadata": {},
   "outputs": [],
   "source": []
  }
 ],
 "metadata": {
  "kernelspec": {
   "display_name": "Python 3 (ipykernel)",
   "language": "python",
   "name": "python3"
  },
  "language_info": {
   "codemirror_mode": {
    "name": "ipython",
    "version": 3
   },
   "file_extension": ".py",
   "mimetype": "text/x-python",
   "name": "python",
   "nbconvert_exporter": "python",
   "pygments_lexer": "ipython3",
   "version": "3.10.8"
  }
 },
 "nbformat": 4,
 "nbformat_minor": 5
}
